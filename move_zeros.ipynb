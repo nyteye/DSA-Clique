{
  "nbformat": 4,
  "nbformat_minor": 0,
  "metadata": {
    "colab": {
      "provenance": [],
      "authorship_tag": "ABX9TyPwwp7Wdid9qKzuG/6IGSuV",
      "include_colab_link": true
    },
    "kernelspec": {
      "name": "python3",
      "display_name": "Python 3"
    },
    "language_info": {
      "name": "python"
    }
  },
  "cells": [
    {
      "cell_type": "markdown",
      "metadata": {
        "id": "view-in-github",
        "colab_type": "text"
      },
      "source": [
        "<a href=\"https://colab.research.google.com/github/nyteye/DSA-Clique/blob/main/move_zeros.ipynb\" target=\"_parent\"><img src=\"https://colab.research.google.com/assets/colab-badge.svg\" alt=\"Open In Colab\"/></a>"
      ]
    },
    {
      "cell_type": "code",
      "execution_count": 13,
      "metadata": {
        "colab": {
          "base_uri": "https://localhost:8080/"
        },
        "id": "cDl_r2e0gBL8",
        "outputId": "0565e22f-49d1-4b04-943d-b0155ce7d345"
      },
      "outputs": [
        {
          "output_type": "stream",
          "name": "stdout",
          "text": [
            "3\n",
            "[1, 1, 1, 0, 0]\n"
          ]
        }
      ],
      "source": [
        "arr = [0,1,0,1,1]\n",
        "arrt =[]\n",
        "lent = len(arr)\n",
        "count = 0\n",
        "countz = 0\n",
        "for i in range(lent):\n",
        "    if arr[i]==0:\n",
        "        countz+=1\n",
        "    else:\n",
        "        count+=1\n",
        "print(count)\n",
        "for j in range(0,count):\n",
        "        arr[j]=1\n",
        "for jc in range(3,lent):\n",
        "    arr[jc]=0\n",
        "\n",
        "print(arr)\n"
      ]
    }
  ]
}