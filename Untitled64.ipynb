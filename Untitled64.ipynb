{
  "nbformat": 4,
  "nbformat_minor": 0,
  "metadata": {
    "colab": {
      "provenance": [],
      "authorship_tag": "ABX9TyOML+7BVxroIQ+A4wY0+Hov",
      "include_colab_link": true
    },
    "kernelspec": {
      "name": "python3",
      "display_name": "Python 3"
    },
    "language_info": {
      "name": "python"
    }
  },
  "cells": [
    {
      "cell_type": "markdown",
      "metadata": {
        "id": "view-in-github",
        "colab_type": "text"
      },
      "source": [
        "<a href=\"https://colab.research.google.com/github/nyteye/DSA-Clique/blob/main/Untitled64.ipynb\" target=\"_parent\"><img src=\"https://colab.research.google.com/assets/colab-badge.svg\" alt=\"Open In Colab\"/></a>"
      ]
    },
    {
      "cell_type": "code",
      "execution_count": 11,
      "metadata": {
        "colab": {
          "base_uri": "https://localhost:8080/"
        },
        "id": "jgIX5xed-LCx",
        "outputId": "936eccf4-3ed1-48b0-cdcb-dabafff625a2"
      },
      "outputs": [
        {
          "output_type": "stream",
          "name": "stdout",
          "text": [
            "2\n"
          ]
        }
      ],
      "source": [
        "def singleNumber(nums):\n",
        "    i = 0\n",
        "    j = len(nums)-1\n",
        "    mil = 0\n",
        "\n",
        "    for i in range(len(nums)-1):\n",
        "        if nums[i]==nums[j]:\n",
        "            j-=1\n",
        "        elif nums[i]!=nums[j]:\n",
        "            mil = nums[i]\n",
        "\n",
        "        if mil !=nums[i]:\n",
        "            return nums[j]\n",
        "        else:\n",
        "\n",
        "            return mil\n",
        "\n",
        "\n",
        "\n",
        "\n",
        "numsx = [2,2,1]\n",
        "print(singleNumber(numsx))\n"
      ]
    }
  ]
}